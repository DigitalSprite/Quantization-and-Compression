{
 "cells": [
  {
   "cell_type": "code",
   "execution_count": 1,
   "metadata": {},
   "outputs": [],
   "source": [
    "from net.hcq import HCQ\n",
    "from net.data import get_dataloader\n",
    "import numpy as np\n",
    "import math\n",
    "import os\n",
    "import torch"
   ]
  },
  {
   "cell_type": "code",
   "execution_count": 2,
   "metadata": {},
   "outputs": [],
   "source": [
    "net = HCQ(10)"
   ]
  },
  {
   "cell_type": "markdown",
   "metadata": {},
   "source": [
    "## Calculate Compresstion Rate"
   ]
  },
  {
   "cell_type": "code",
   "execution_count": 57,
   "metadata": {},
   "outputs": [
    {
     "name": "stdout",
     "output_type": "stream",
     "text": [
      "17\n",
      "17\n",
      "13.679323205409068\n"
     ]
    }
   ],
   "source": [
    "quantized_layers = [3, 6, 9, 12, 15, 18, 24, 27, 30, 33, 39, 42, 45, 48, 54, 57, 60]\n",
    "bit_widths =[4, 3, 4, 4, 3, 3, 3, 2, 3, 3, 3, 3, 2, 2, 2, 2, 2]\n",
    "print(len(quantized_layers))\n",
    "print(len(bit_widths))\n",
    "original_size = 0\n",
    "quantized_size = 0\n",
    "tag = 0\n",
    "for idx, param in enumerate(net.parameters()):\n",
    "#     print(idx, param.size())\n",
    "    if idx in quantized_layers:\n",
    "        quantized_size += param.detach().numpy().reshape(-1).size*bit_widths[tag]\n",
    "        original_size += param.detach().numpy().reshape(-1).size*32\n",
    "        tag+=1\n",
    "    else:\n",
    "        quantized_size += param.detach().numpy().reshape(-1).size*8\n",
    "        original_size += param.detach().numpy().reshape(-1).size*32\n",
    "print(original_size / quantized_size)"
   ]
  }
 ],
 "metadata": {
  "kernelspec": {
   "display_name": "Python 3",
   "language": "python",
   "name": "python3"
  },
  "language_info": {
   "codemirror_mode": {
    "name": "ipython",
    "version": 3
   },
   "file_extension": ".py",
   "mimetype": "text/x-python",
   "name": "python",
   "nbconvert_exporter": "python",
   "pygments_lexer": "ipython3",
   "version": "3.7.3"
  }
 },
 "nbformat": 4,
 "nbformat_minor": 2
}
