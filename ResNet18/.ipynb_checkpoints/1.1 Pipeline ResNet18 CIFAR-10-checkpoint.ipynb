{
 "cells": [
  {
   "cell_type": "code",
   "execution_count": 1,
   "metadata": {},
   "outputs": [],
   "source": [
    "from net.hcq import HCQ\n",
    "import numpy as np\n",
    "from net.data import get_dataloader\n",
    "import torch\n",
    "import time\n",
    "import json\n",
    "from collections import OrderedDict\n",
    "import os"
   ]
  },
  {
   "cell_type": "markdown",
   "metadata": {},
   "source": [
    "## Acc Loss: 1.0"
   ]
  },
  {
   "cell_type": "code",
   "execution_count": 2,
   "metadata": {
    "scrolled": true
   },
   "outputs": [
    {
     "ename": "IndentationError",
     "evalue": "unexpected indent (<ipython-input-2-2f01b7673973>, line 22)",
     "output_type": "error",
     "traceback": [
      "\u001b[1;36m  File \u001b[1;32m\"<ipython-input-2-2f01b7673973>\"\u001b[1;36m, line \u001b[1;32m22\u001b[0m\n\u001b[1;33m    print('\\n########################## Quantize Layer {} ##########################\\n'.format(layer_name))\u001b[0m\n\u001b[1;37m    ^\u001b[0m\n\u001b[1;31mIndentationError\u001b[0m\u001b[1;31m:\u001b[0m unexpected indent\n"
     ]
    }
   ],
   "source": [
    "acc_loss = 1.0\n",
    "linkage_name='single'\n",
    "file_path = 'model/1.1 Pipeline Experiments/acc loss {} linkage single'.format(str(acc_loss))\n",
    "if not os.path.exists(file_path):\n",
    "    os.makedirs(file_path)\n",
    "train_loader, valid_loader, test_loader = get_dataloader(type='cifar10', data_root='../data', batch_size=64)\n",
    "net = HCQ(10)\n",
    "net.load_from_pretrained_model('model/resnet18_cifar10_baseline.pth')\n",
    "valid_acc = net.compute_acc(valid_loader)\n",
    "test_acc = net.compute_acc(test_loader)\n",
    "print('Orignal valid accuracy:{:.2f}% | Original Test accuracy:{:.2f}% | Minimal valid accuracy:{:.2f}%'.format(valid_acc, test_acc, valid_acc - acc_loss))\n",
    "\n",
    "'''\n",
    "Use designed linkage function to quantize all layers of alexnet:\n",
    "'''\n",
    "cluster_num_dict = OrderedDict()\n",
    "acc_dict = OrderedDict()\n",
    "time_dict = OrderedDict()\n",
    "for lower_bound in range(5, 2, -1):\n",
    "    print('\\n########################## Lower bound {} ##########################\\n'.format(lower_bound))\n",
    "    for layer_name in net.layers:\n",
    "        start_time = time.time()\n",
    "        print('---------------------- Quantize Layer {} ------------------------'.format(layer_name))\n",
    "        code_book, weights = net.hcq_initialization(layer_name, 'single')\n",
    "        total_cluster_num = []\n",
    "        total_acc = []\n",
    "        for iteration in range(10):\n",
    "            max_idx = np.max(code_book)\n",
    "            code_book, centroids, clusters_num_list, acc_list = net.quantize_layer_under_acc_loss(\n",
    "                layer_name=layer_name,\n",
    "                code_book=code_book,\n",
    "                linkage_name=linkage_name,\n",
    "                clusters_num_lower_bound=2**lower_bound,\n",
    "                baseline_acc=valid_acc - acc_loss,\n",
    "                valid_loader=valid_loader)\n",
    "            if max_idx == np.max(code_book):\n",
    "                break\n",
    "            net.fine_tune(layer_name, code_book, 1, 1e-4, train_loader, valid_loader, test_loader, \n",
    "                          show_interval = 50, sample_rate=0.2)\n",
    "            total_cluster_num = np.concatenate((total_cluster_num, clusters_num_list))\n",
    "            total_acc = np.concatenate((total_acc, acc_list))\n",
    "        cluster_num_dict[layer_name]= list(total_cluster_num)\n",
    "        acc_dict[layer_name] = list(total_acc)\n",
    "        time_dict[layer_name] = time.time() - start_time\n",
    "        net.save_model(os.path.join(file_path, 'model.pth'))\n",
    "\n",
    "    '''\n",
    "    Record Data\n",
    "    '''\n",
    "    with open(os.path.join(file_path, 'acc_dict.json'), 'w') as f:\n",
    "        f.write(json.dumps(acc_dict))\n",
    "    with open(os.path.join(file_path, 'clusters_nums_dict.json'), 'w') as f:\n",
    "        f.write(json.dumps(cluster_num_dict))\n",
    "    with open(os.path.join(file_path, 'time_dict.json'), 'w') as f:\n",
    "        f.write(json.dumps(time_dict))"
   ]
  }
 ],
 "metadata": {
  "kernelspec": {
   "display_name": "Python 3",
   "language": "python",
   "name": "python3"
  },
  "language_info": {
   "codemirror_mode": {
    "name": "ipython",
    "version": 3
   },
   "file_extension": ".py",
   "mimetype": "text/x-python",
   "name": "python",
   "nbconvert_exporter": "python",
   "pygments_lexer": "ipython3",
   "version": "3.7.3"
  }
 },
 "nbformat": 4,
 "nbformat_minor": 2
}
