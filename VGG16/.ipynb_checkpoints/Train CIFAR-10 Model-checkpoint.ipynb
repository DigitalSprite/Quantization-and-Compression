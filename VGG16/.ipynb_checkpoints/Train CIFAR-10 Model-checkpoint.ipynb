{
 "cells": [
  {
   "cell_type": "code",
   "execution_count": 1,
   "metadata": {},
   "outputs": [],
   "source": [
    "from net.vgg16 import VGG16\n",
    "from net.data import get_dataloader"
   ]
  },
  {
   "cell_type": "code",
   "execution_count": 2,
   "metadata": {},
   "outputs": [],
   "source": [
    "train_loader, valid_loader, test_loader = get_dataloader(type='cifar10', data_root='../data', batch_size=64)\n",
    "net = VGG16(num_classes=10, batch_norm=False, dropout=0.5)"
   ]
  },
  {
   "cell_type": "code",
   "execution_count": null,
   "metadata": {},
   "outputs": [
    {
     "name": "stdout",
     "output_type": "stream",
     "text": [
      "Epoch: 001/300 | Batch 000/750 | Cost: 2.3045\n",
      "Epoch: 001/300 | Batch 100/750 | Cost: 2.3039\n",
      "Epoch: 001/300 | Batch 200/750 | Cost: 2.2846\n",
      "Epoch: 001/300 | Batch 300/750 | Cost: 2.1635\n",
      "Epoch: 001/300 | Batch 400/750 | Cost: 2.1824\n",
      "Epoch: 001/300 | Batch 500/750 | Cost: 2.0358\n",
      "Epoch: 001/300 | Batch 600/750 | Cost: 2.0936\n",
      "Epoch: 001/300 | Batch 700/750 | Cost: 1.9459\n",
      "Epoch: 001/300\n",
      "Train ACC: 29.95 | Validation ACC: 31.10 | Test ACC:30.63\n",
      "Attain best test accuracy. Save model in model/vgg16_cifar10_baseline.pth\n",
      "Time elapsed: 177.18 min\n",
      "Epoch: 002/300 | Batch 000/750 | Cost: 2.1237\n",
      "Epoch: 002/300 | Batch 100/750 | Cost: 1.9053\n",
      "Epoch: 002/300 | Batch 200/750 | Cost: 1.8222\n",
      "Epoch: 002/300 | Batch 300/750 | Cost: 1.9618\n",
      "Epoch: 002/300 | Batch 400/750 | Cost: 1.7393\n",
      "Epoch: 002/300 | Batch 500/750 | Cost: 1.8165\n",
      "Epoch: 002/300 | Batch 600/750 | Cost: 1.6103\n",
      "Epoch: 002/300 | Batch 700/750 | Cost: 1.7890\n",
      "Epoch: 002/300\n",
      "Train ACC: 37.52 | Validation ACC: 36.90 | Test ACC:37.70\n",
      "Attain best test accuracy. Save model in model/vgg16_cifar10_baseline.pth\n",
      "Time elapsed: 393.18 min\n",
      "Epoch: 003/300 | Batch 000/750 | Cost: 1.7699\n",
      "Epoch: 003/300 | Batch 100/750 | Cost: 1.6406\n",
      "Epoch: 003/300 | Batch 200/750 | Cost: 1.9230\n",
      "Epoch: 003/300 | Batch 300/750 | Cost: 1.6206\n",
      "Epoch: 003/300 | Batch 400/750 | Cost: 1.7774\n",
      "Epoch: 003/300 | Batch 500/750 | Cost: 1.4256\n",
      "Epoch: 003/300 | Batch 600/750 | Cost: 1.5915\n",
      "Epoch: 003/300 | Batch 700/750 | Cost: 1.6414\n",
      "Epoch: 003/300\n",
      "Train ACC: 47.81 | Validation ACC: 47.25 | Test ACC:47.55\n",
      "Attain best test accuracy. Save model in model/vgg16_cifar10_baseline.pth\n",
      "Time elapsed: 570.12 min\n",
      "Epoch: 004/300 | Batch 000/750 | Cost: 1.6293\n",
      "Epoch: 004/300 | Batch 100/750 | Cost: 1.4308\n",
      "Epoch: 004/300 | Batch 200/750 | Cost: 1.2497\n",
      "Epoch: 004/300 | Batch 300/750 | Cost: 1.4995\n",
      "Epoch: 004/300 | Batch 400/750 | Cost: 1.3874\n",
      "Epoch: 004/300 | Batch 500/750 | Cost: 1.4163\n",
      "Epoch: 004/300 | Batch 600/750 | Cost: 1.2826\n",
      "Epoch: 004/300 | Batch 700/750 | Cost: 1.3814\n",
      "Epoch: 004/300\n",
      "Train ACC: 53.96 | Validation ACC: 52.05 | Test ACC:53.16\n",
      "Attain best test accuracy. Save model in model/vgg16_cifar10_baseline.pth\n",
      "Time elapsed: 743.87 min\n",
      "Epoch: 005/300 | Batch 000/750 | Cost: 1.2792\n",
      "Epoch: 005/300 | Batch 100/750 | Cost: 1.4452\n",
      "Epoch: 005/300 | Batch 200/750 | Cost: 1.3195\n",
      "Epoch: 005/300 | Batch 300/750 | Cost: 1.2508\n",
      "Epoch: 005/300 | Batch 400/750 | Cost: 1.1947\n",
      "Epoch: 005/300 | Batch 500/750 | Cost: 1.2808\n",
      "Epoch: 005/300 | Batch 600/750 | Cost: 1.3288\n",
      "Epoch: 005/300 | Batch 700/750 | Cost: 1.3988\n",
      "Epoch: 005/300\n",
      "Train ACC: 56.54 | Validation ACC: 55.35 | Test ACC:55.26\n",
      "Attain best test accuracy. Save model in model/vgg16_cifar10_baseline.pth\n",
      "Time elapsed: 924.31 min\n",
      "Epoch: 006/300 | Batch 000/750 | Cost: 0.9693\n",
      "Epoch: 006/300 | Batch 100/750 | Cost: 1.1752\n",
      "Epoch: 006/300 | Batch 200/750 | Cost: 1.2914\n",
      "Epoch: 006/300 | Batch 300/750 | Cost: 1.1358\n",
      "Epoch: 006/300 | Batch 400/750 | Cost: 0.8192\n",
      "Epoch: 006/300 | Batch 500/750 | Cost: 0.9240\n",
      "Epoch: 006/300 | Batch 600/750 | Cost: 1.1585\n",
      "Epoch: 006/300 | Batch 700/750 | Cost: 1.0071\n",
      "Epoch: 006/300\n",
      "Train ACC: 59.18 | Validation ACC: 57.45 | Test ACC:57.82\n",
      "Attain best test accuracy. Save model in model/vgg16_cifar10_baseline.pth\n",
      "Time elapsed: 1111.29 min\n"
     ]
    }
   ],
   "source": [
    "net.load_from_pretrained_model('model/vgg16_cifar10_baseline.pth')\n",
    "net.train_model(epochs=150, learning_rate=1e-3, momentum=0.9, weight_decay=5e-4, \n",
    "                train_loader=train_loader, valid_loader=valid_loader, test_loader=test_loader, \n",
    "                save_path='model/vgg16_cifar10_baseline.pth')"
   ]
  }
 ],
 "metadata": {
  "kernelspec": {
   "display_name": "Python 3",
   "language": "python",
   "name": "python3"
  },
  "language_info": {
   "codemirror_mode": {
    "name": "ipython",
    "version": 3
   },
   "file_extension": ".py",
   "mimetype": "text/x-python",
   "name": "python",
   "nbconvert_exporter": "python",
   "pygments_lexer": "ipython3",
   "version": "3.7.3"
  }
 },
 "nbformat": 4,
 "nbformat_minor": 2
}
