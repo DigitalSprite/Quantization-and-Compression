{
 "cells": [
  {
   "cell_type": "code",
   "execution_count": 1,
   "metadata": {},
   "outputs": [],
   "source": [
    "from net.vgg16 import VGG16\n",
    "from net.data import get_dataloader\n",
    "import torch"
   ]
  },
  {
   "cell_type": "code",
   "execution_count": 2,
   "metadata": {},
   "outputs": [],
   "source": [
    "net = VGG16(num_classes=10, batch_norm=True, dropout=0)\n",
    "net.load_from_pretrained_model('model/vgg16_cifar10_baseline.pth')"
   ]
  },
  {
   "cell_type": "code",
   "execution_count": 5,
   "metadata": {},
   "outputs": [
    {
     "name": "stdout",
     "output_type": "stream",
     "text": [
      "conv_weight_1_1 torch.Size([64, 3, 3, 3])\n",
      "conv_weight_1_2 torch.Size([64, 64, 3, 3])\n",
      "conv_weight_2_1 torch.Size([128, 64, 3, 3])\n",
      "conv_weight_2_2 torch.Size([128, 128, 3, 3])\n",
      "conv_weight_3_1 torch.Size([256, 128, 3, 3])\n",
      "conv_weight_3_2 torch.Size([256, 256, 3, 3])\n",
      "conv_weight_3_3 torch.Size([256, 256, 3, 3])\n",
      "conv_weight_4_1 torch.Size([512, 256, 3, 3])\n",
      "conv_weight_4_2 torch.Size([512, 512, 3, 3])\n",
      "conv_weight_4_3 torch.Size([512, 512, 3, 3])\n",
      "conv_weight_5_1 torch.Size([512, 512, 3, 3])\n",
      "conv_weight_5_2 torch.Size([512, 512, 3, 3])\n",
      "conv_weight_5_3 torch.Size([512, 512, 3, 3])\n",
      "fc_weight_1 torch.Size([4096, 25088])\n",
      "fc_weight_2 torch.Size([4096, 4096])\n",
      "fc_weight_3 torch.Size([10, 4096])\n"
     ]
    }
   ],
   "source": [
    "for layer_name in net.layers:\n",
    "    print(layer_name, net.layers[layer_name].size())"
   ]
  },
  {
   "cell_type": "code",
   "execution_count": 7,
   "metadata": {},
   "outputs": [],
   "source": [
    "train_loader, valid_loader, test_loader = get_dataloader(type='cifar10', data_root='../data', batch_size=32)"
   ]
  },
  {
   "cell_type": "code",
   "execution_count": 8,
   "metadata": {},
   "outputs": [
    {
     "name": "stdout",
     "output_type": "stream",
     "text": [
      "tensor(98.8000)\n"
     ]
    }
   ],
   "source": [
    "print(net.compute_acc(valid_loader))"
   ]
  },
  {
   "cell_type": "code",
   "execution_count": 9,
   "metadata": {},
   "outputs": [
    {
     "name": "stdout",
     "output_type": "stream",
     "text": [
      "tensor(91.9400)\n"
     ]
    }
   ],
   "source": [
    "print(net.compute_acc(test_loader))"
   ]
  }
 ],
 "metadata": {
  "kernelspec": {
   "display_name": "Python 3",
   "language": "python",
   "name": "python3"
  },
  "language_info": {
   "codemirror_mode": {
    "name": "ipython",
    "version": 3
   },
   "file_extension": ".py",
   "mimetype": "text/x-python",
   "name": "python",
   "nbconvert_exporter": "python",
   "pygments_lexer": "ipython3",
   "version": "3.7.3"
  }
 },
 "nbformat": 4,
 "nbformat_minor": 2
}
