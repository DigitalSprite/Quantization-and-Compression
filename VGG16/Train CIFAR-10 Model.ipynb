{
 "cells": [
  {
   "cell_type": "code",
   "execution_count": 1,
   "metadata": {},
   "outputs": [],
   "source": [
    "from net.vgg16 import VGG16\n",
    "from net.data import get_dataloader"
   ]
  },
  {
   "cell_type": "code",
   "execution_count": 2,
   "metadata": {},
   "outputs": [],
   "source": [
    "train_loader, valid_loader, test_loader = get_dataloader(type='cifar10', data_root='../data', batch_size=64)\n",
    "net = VGG16(num_classes=10, batch_norm=False, dropout=0.5)"
   ]
  },
  {
   "cell_type": "code",
   "execution_count": null,
   "metadata": {},
   "outputs": [
    {
     "name": "stdout",
     "output_type": "stream",
     "text": [
      "Epoch: 001/300 | Batch 000/750 | Cost: 2.3045\n",
      "Epoch: 001/300 | Batch 100/750 | Cost: 2.3039\n",
      "Epoch: 001/300 | Batch 200/750 | Cost: 2.2846\n",
      "Epoch: 001/300 | Batch 300/750 | Cost: 2.1635\n",
      "Epoch: 001/300 | Batch 400/750 | Cost: 2.1824\n",
      "Epoch: 001/300 | Batch 500/750 | Cost: 2.0358\n",
      "Epoch: 001/300 | Batch 600/750 | Cost: 2.0936\n",
      "Epoch: 001/300 | Batch 700/750 | Cost: 1.9459\n",
      "Epoch: 001/300\n",
      "Train ACC: 29.95 | Validation ACC: 31.10 | Test ACC:30.63\n",
      "Attain best test accuracy. Save model in model/vgg16_cifar10_baseline.pth\n",
      "Time elapsed: 177.18 min\n",
      "Epoch: 002/300 | Batch 000/750 | Cost: 2.1237\n",
      "Epoch: 002/300 | Batch 100/750 | Cost: 1.9053\n"
     ]
    }
   ],
   "source": [
    "net.train_model(epochs=300, learning_rate=1e-3, momentum=0.9, weight_decay=5e-4, \n",
    "                train_loader=train_loader, valid_loader=valid_loader, test_loader=test_loader, \n",
    "                save_path='model/vgg16_cifar10_baseline.pth')"
   ]
  }
 ],
 "metadata": {
  "kernelspec": {
   "display_name": "Python 3",
   "language": "python",
   "name": "python3"
  },
  "language_info": {
   "codemirror_mode": {
    "name": "ipython",
    "version": 3
   },
   "file_extension": ".py",
   "mimetype": "text/x-python",
   "name": "python",
   "nbconvert_exporter": "python",
   "pygments_lexer": "ipython3",
   "version": "3.7.3"
  }
 },
 "nbformat": 4,
 "nbformat_minor": 2
}
