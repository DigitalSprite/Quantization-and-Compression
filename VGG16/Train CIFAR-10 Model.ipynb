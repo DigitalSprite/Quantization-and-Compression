{
 "cells": [
  {
   "cell_type": "code",
   "execution_count": 1,
   "metadata": {},
   "outputs": [],
   "source": [
    "from net.vgg16 import VGG16\n",
    "from net.data import get_dataloader"
   ]
  },
  {
   "cell_type": "code",
   "execution_count": 2,
   "metadata": {},
   "outputs": [],
   "source": [
    "train_loader, valid_loader, test_loader = get_dataloader(type='cifar10', data_root='../data', batch_size=64)\n",
    "net = VGG16(num_classes=10, batch_norm=False, dropout=0.5)"
   ]
  },
  {
   "cell_type": "code",
   "execution_count": null,
   "metadata": {},
   "outputs": [
    {
     "name": "stdout",
     "output_type": "stream",
     "text": [
      "Epoch: 007/150 | Batch 000/750 | Cost: 1.2320\n",
      "Epoch: 007/150 | Batch 100/750 | Cost: 0.8668\n",
      "Epoch: 007/150 | Batch 200/750 | Cost: 1.0972\n",
      "Epoch: 007/150 | Batch 300/750 | Cost: 1.0249\n",
      "Epoch: 007/150 | Batch 400/750 | Cost: 0.9916\n",
      "Epoch: 007/150 | Batch 500/750 | Cost: 0.9785\n",
      "Epoch: 007/150 | Batch 600/750 | Cost: 0.9959\n",
      "Epoch: 007/150 | Batch 700/750 | Cost: 1.2085\n"
     ]
    }
   ],
   "source": [
    "net.load_from_pretrained_model('model/vgg16_cifar10_baseline.pth')\n",
    "net.train_model(start_epoch=6, epochs=150, learning_rate=1e-3, momentum=0.9, weight_decay=5e-4, \n",
    "                train_loader=train_loader, valid_loader=valid_loader, test_loader=test_loader, \n",
    "                save_path='model/vgg16_cifar10_baseline.pth')"
   ]
  }
 ],
 "metadata": {
  "kernelspec": {
   "display_name": "Python 3",
   "language": "python",
   "name": "python3"
  },
  "language_info": {
   "codemirror_mode": {
    "name": "ipython",
    "version": 3
   },
   "file_extension": ".py",
   "mimetype": "text/x-python",
   "name": "python",
   "nbconvert_exporter": "python",
   "pygments_lexer": "ipython3",
   "version": "3.7.3"
  }
 },
 "nbformat": 4,
 "nbformat_minor": 2
}
