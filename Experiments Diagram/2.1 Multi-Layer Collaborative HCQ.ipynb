{
 "cells": [
  {
   "cell_type": "code",
   "execution_count": 1,
   "metadata": {},
   "outputs": [],
   "source": [
    "import matplotlib.pyplot as plt\n",
    "import numpy as np"
   ]
  },
  {
   "cell_type": "markdown",
   "metadata": {},
   "source": [
    "## ResNet18 CIFAR-10 Comparison"
   ]
  },
  {
   "cell_type": "code",
   "execution_count": 27,
   "metadata": {},
   "outputs": [
    {
     "data": {
      "image/png": "[encoded data removed]",
      "text/plain": [
       "<Figure size 432x288 with 1 Axes>"
      ]
     },
     "metadata": {
      "needs_background": "light"
     },
     "output_type": "display_data"
    }
   ],
   "source": [
    "resnet18_hcq_multi_designed = np.array([[7.87, 92.60-0.04], [9.55, 92.60-0.84], [10.34, 92.6-1.04], [13.67, 92.6-1.25]])\n",
    "# resnet18_sql = np.array()\n",
    "resnet18_pipeline_designed = np.array([])\n",
    "\n",
    "'''\n",
    "Draw Diagram\n",
    "'''\n",
    "plt.plot(resnet18_hcq_multi_designed[:,0], resnet18_hcq_multi_designed[:,1], color='red', linestyle=\"--\")\n",
    "plt.scatter(resnet18_hcq_multi_designed[:,0], resnet18_hcq_multi_designed[:,1], color='red', label='MHCQ')\n",
    "plt.legend()\n",
    "plt.xlim([0, 16])\n",
    "plt.ylim([89, 94])\n",
    "plt.show()"
   ]
  }
 ],
 "metadata": {
  "kernelspec": {
   "display_name": "Python 3",
   "language": "python",
   "name": "python3"
  },
  "language_info": {
   "codemirror_mode": {
    "name": "ipython",
    "version": 3
   },
   "file_extension": ".py",
   "mimetype": "text/x-python",
   "name": "python",
   "nbconvert_exporter": "python",
   "pygments_lexer": "ipython3",
   "version": "3.7.3"
  }
 },
 "nbformat": 4,
 "nbformat_minor": 2
}
