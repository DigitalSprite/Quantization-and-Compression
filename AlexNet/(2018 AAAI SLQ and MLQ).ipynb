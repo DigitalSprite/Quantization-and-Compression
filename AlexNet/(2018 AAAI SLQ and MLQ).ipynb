{
 "cells": [
  {
   "cell_type": "code",
   "execution_count": 1,
   "metadata": {},
   "outputs": [],
   "source": [
    "from net.data import get_dataloader\n",
    "from net.sql import SLQ\n",
    "import torch"
   ]
  },
  {
   "cell_type": "code",
   "execution_count": 2,
   "metadata": {},
   "outputs": [],
   "source": [
    "train_loader, valid_loader, test_loader = get_dataloader(type='cifar10', data_root='../data', batch_size=64)"
   ]
  },
  {
   "cell_type": "code",
   "execution_count": 5,
   "metadata": {},
   "outputs": [
    {
     "name": "stderr",
     "output_type": "stream",
     "text": [
      "C:\\Users\\47034\\Anaconda3\\lib\\site-packages\\sklearn\\cluster\\k_means_.py:969: RuntimeWarning: Explicit initial center position passed: performing only one init in k-means instead of n_init=10\n",
      "  return_n_iter=True)\n"
     ]
    },
    {
     "name": "stdout",
     "output_type": "stream",
     "text": [
      "Epoch: 001/001 | Batch 100/750 | Test Accuracy: 68.32%\n",
      "Epoch: 001/001 | Batch 100/750 | Test Accuracy: 72.17%\n",
      "Epoch: 001/001 | Batch 100/750 | Test Accuracy: 70.81%\n",
      "Clusters: 005 | Test Accuracy: 70.81% | Valid Accuracy: 71.45%\n"
     ]
    },
    {
     "name": "stderr",
     "output_type": "stream",
     "text": [
      "C:\\Users\\47034\\Anaconda3\\lib\\site-packages\\sklearn\\cluster\\k_means_.py:969: RuntimeWarning: Explicit initial center position passed: performing only one init in k-means instead of n_init=10\n",
      "  return_n_iter=True)\n"
     ]
    },
    {
     "name": "stdout",
     "output_type": "stream",
     "text": [
      "Epoch: 001/001 | Batch 100/750 | Test Accuracy: 58.86%\n",
      "Epoch: 001/001 | Batch 100/750 | Test Accuracy: 69.17%\n",
      "Epoch: 001/001 | Batch 100/750 | Test Accuracy: 69.53%\n",
      "Clusters: 005 | Test Accuracy: 69.53% | Valid Accuracy: 70.95%\n"
     ]
    },
    {
     "name": "stderr",
     "output_type": "stream",
     "text": [
      "C:\\Users\\47034\\Anaconda3\\lib\\site-packages\\sklearn\\cluster\\k_means_.py:969: RuntimeWarning: Explicit initial center position passed: performing only one init in k-means instead of n_init=10\n",
      "  return_n_iter=True)\n"
     ]
    },
    {
     "name": "stdout",
     "output_type": "stream",
     "text": [
      "Epoch: 001/001 | Batch 100/750 | Test Accuracy: 65.57%\n",
      "Epoch: 001/001 | Batch 100/750 | Test Accuracy: 70.45%\n",
      "Epoch: 001/001 | Batch 100/750 | Test Accuracy: 69.11%\n",
      "Clusters: 005 | Test Accuracy: 69.11% | Valid Accuracy: 70.35%\n"
     ]
    },
    {
     "name": "stderr",
     "output_type": "stream",
     "text": [
      "C:\\Users\\47034\\Anaconda3\\lib\\site-packages\\sklearn\\cluster\\k_means_.py:969: RuntimeWarning: Explicit initial center position passed: performing only one init in k-means instead of n_init=10\n",
      "  return_n_iter=True)\n"
     ]
    },
    {
     "name": "stdout",
     "output_type": "stream",
     "text": [
      "Epoch: 001/001 | Batch 100/750 | Test Accuracy: 67.96%\n",
      "Epoch: 001/001 | Batch 100/750 | Test Accuracy: 69.39%\n",
      "Epoch: 001/001 | Batch 100/750 | Test Accuracy: 68.90%\n",
      "Clusters: 005 | Test Accuracy: 68.90% | Valid Accuracy: 70.50%\n"
     ]
    },
    {
     "name": "stderr",
     "output_type": "stream",
     "text": [
      "C:\\Users\\47034\\Anaconda3\\lib\\site-packages\\sklearn\\cluster\\k_means_.py:969: RuntimeWarning: Explicit initial center position passed: performing only one init in k-means instead of n_init=10\n",
      "  return_n_iter=True)\n"
     ]
    },
    {
     "name": "stdout",
     "output_type": "stream",
     "text": [
      "Epoch: 001/001 | Batch 100/750 | Test Accuracy: 53.19%\n",
      "Epoch: 001/001 | Batch 100/750 | Test Accuracy: 69.89%\n",
      "Epoch: 001/001 | Batch 100/750 | Test Accuracy: 68.72%\n",
      "Clusters: 005 | Test Accuracy: 68.72% | Valid Accuracy: 70.25%\n"
     ]
    },
    {
     "name": "stderr",
     "output_type": "stream",
     "text": [
      "C:\\Users\\47034\\Anaconda3\\lib\\site-packages\\sklearn\\cluster\\k_means_.py:969: RuntimeWarning: Explicit initial center position passed: performing only one init in k-means instead of n_init=10\n",
      "  return_n_iter=True)\n"
     ]
    },
    {
     "name": "stdout",
     "output_type": "stream",
     "text": [
      "Epoch: 001/001 | Batch 100/750 | Test Accuracy: 68.70%\n",
      "Epoch: 001/001 | Batch 100/750 | Test Accuracy: 68.71%\n",
      "Epoch: 001/001 | Batch 100/750 | Test Accuracy: 68.67%\n",
      "Clusters: 005 | Test Accuracy: 68.67% | Valid Accuracy: 70.10%\n"
     ]
    },
    {
     "name": "stderr",
     "output_type": "stream",
     "text": [
      "C:\\Users\\47034\\Anaconda3\\lib\\site-packages\\sklearn\\cluster\\k_means_.py:969: RuntimeWarning: Explicit initial center position passed: performing only one init in k-means instead of n_init=10\n",
      "  return_n_iter=True)\n"
     ]
    },
    {
     "name": "stdout",
     "output_type": "stream",
     "text": [
      "Epoch: 001/001 | Batch 100/750 | Test Accuracy: 68.71%\n",
      "Epoch: 001/001 | Batch 100/750 | Test Accuracy: 68.72%\n",
      "Epoch: 001/001 | Batch 100/750 | Test Accuracy: 68.72%\n",
      "Clusters: 005 | Test Accuracy: 68.72% | Valid Accuracy: 70.20%\n"
     ]
    },
    {
     "name": "stderr",
     "output_type": "stream",
     "text": [
      "C:\\Users\\47034\\Anaconda3\\lib\\site-packages\\sklearn\\cluster\\k_means_.py:969: RuntimeWarning: Explicit initial center position passed: performing only one init in k-means instead of n_init=10\n",
      "  return_n_iter=True)\n"
     ]
    },
    {
     "name": "stdout",
     "output_type": "stream",
     "text": [
      "Epoch: 001/001 | Batch 100/750 | Test Accuracy: 68.86%\n",
      "Epoch: 001/001 | Batch 100/750 | Test Accuracy: 68.67%\n",
      "Epoch: 001/001 | Batch 100/750 | Test Accuracy: 68.59%\n",
      "Clusters: 005 | Test Accuracy: 68.59% | Valid Accuracy: 69.65%\n",
      "tensor(68.5900)\n"
     ]
    },
    {
     "data": {
      "text/plain": [
       "0"
      ]
     },
     "execution_count": 5,
     "metadata": {},
     "output_type": "execute_result"
    }
   ],
   "source": [
    "net = SLQ(num_class=10, dropout=0)\n",
    "net.load_from_pretrained_model('model/alexnet_cifar10_baseline.pth')\n",
    "net.slq_quantization(5, [2, 2, 1], 1, train_loader, valid_loader, test_loader, True, True)"
   ]
  }
 ],
 "metadata": {
  "kernelspec": {
   "display_name": "Python 3",
   "language": "python",
   "name": "python3"
  },
  "language_info": {
   "codemirror_mode": {
    "name": "ipython",
    "version": 3
   },
   "file_extension": ".py",
   "mimetype": "text/x-python",
   "name": "python",
   "nbconvert_exporter": "python",
   "pygments_lexer": "ipython3",
   "version": "3.7.3"
  }
 },
 "nbformat": 4,
 "nbformat_minor": 2
}
