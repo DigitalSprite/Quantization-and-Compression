{
 "cells": [
  {
   "cell_type": "code",
   "execution_count": 1,
   "metadata": {},
   "outputs": [],
   "source": [
    "from net.data import get_dataloader\n",
    "from net.model import AlexNet\n",
    "import torch"
   ]
  },
  {
   "cell_type": "code",
   "execution_count": 2,
   "metadata": {},
   "outputs": [],
   "source": [
    "train_loader, valid_loader, test_loader = get_dataloader(type='cifar10', data_root='data', batch_size=64)\n",
    "net = AlexNet(10)\n",
    "net.load_from_pretrained_model('model/alexnet_cifar10_baseline.pth')"
   ]
  },
  {
   "cell_type": "markdown",
   "metadata": {},
   "source": [
    "## Example of quantizing first layer of AlexNet"
   ]
  },
  {
   "cell_type": "code",
   "execution_count": 3,
   "metadata": {},
   "outputs": [
    {
     "name": "stderr",
     "output_type": "stream",
     "text": [
      "C:\\Users\\47034\\Anaconda3\\lib\\site-packages\\sklearn\\cluster\\k_means_.py:969: RuntimeWarning: Explicit initial center position passed: performing only one init in k-means instead of n_init=10\n",
      "  return_n_iter=True)\n"
     ]
    },
    {
     "name": "stdout",
     "output_type": "stream",
     "text": [
      "Epoch: 001/002 | Batch 050/750 | Test Accuracy: 72.98%\n",
      "Epoch: 001/002 | Batch 100/750 | Test Accuracy: 73.58%\n",
      "Epoch: 001/002 | Batch 150/750 | Test Accuracy: 73.57%\n",
      "Epoch: 001/002 | Batch 200/750 | Test Accuracy: 73.20%\n",
      "Epoch: 001/002 | Batch 250/750 | Test Accuracy: 72.24%\n",
      "Epoch: 001/002 | Batch 300/750 | Test Accuracy: 73.45%\n",
      "Epoch: 001/002 | Batch 350/750 | Test Accuracy: 73.40%\n",
      "Epoch: 001/002 | Batch 400/750 | Test Accuracy: 74.14%\n",
      "Epoch: 001/002 | Batch 450/750 | Test Accuracy: 73.83%\n",
      "Epoch: 001/002 | Batch 500/750 | Test Accuracy: 72.36%\n",
      "Epoch: 001/002 | Batch 550/750 | Test Accuracy: 72.90%\n",
      "Epoch: 001/002 | Batch 600/750 | Test Accuracy: 73.21%\n",
      "Epoch: 001/002 | Batch 650/750 | Test Accuracy: 73.68%\n",
      "Epoch: 001/002 | Batch 700/750 | Test Accuracy: 73.27%\n",
      "Epoch: 001/002 | Batch 750/750 | Test Accuracy: 73.02%\n",
      "Epoch: 002/002 | Batch 050/750 | Test Accuracy: 73.61%\n",
      "Epoch: 002/002 | Batch 100/750 | Test Accuracy: 72.84%\n",
      "Epoch: 002/002 | Batch 150/750 | Test Accuracy: 73.67%\n",
      "Epoch: 002/002 | Batch 200/750 | Test Accuracy: 73.26%\n",
      "Epoch: 002/002 | Batch 250/750 | Test Accuracy: 73.48%\n",
      "Epoch: 002/002 | Batch 300/750 | Test Accuracy: 73.22%\n",
      "Epoch: 002/002 | Batch 350/750 | Test Accuracy: 73.62%\n",
      "Epoch: 002/002 | Batch 400/750 | Test Accuracy: 73.27%\n",
      "Epoch: 002/002 | Batch 450/750 | Test Accuracy: 73.32%\n",
      "Epoch: 002/002 | Batch 500/750 | Test Accuracy: 73.16%\n",
      "Epoch: 002/002 | Batch 550/750 | Test Accuracy: 73.06%\n",
      "Epoch: 002/002 | Batch 600/750 | Test Accuracy: 74.10%\n",
      "Epoch: 002/002 | Batch 650/750 | Test Accuracy: 73.79%\n",
      "Epoch: 002/002 | Batch 700/750 | Test Accuracy: 72.99%\n",
      "Epoch: 002/002 | Batch 750/750 | Test Accuracy: 72.66%\n"
     ]
    }
   ],
   "source": [
    "net.k_means_quantization(net.features[0], 8, 2, train_loader, valid_loader, test_loader)"
   ]
  },
  {
   "cell_type": "markdown",
   "metadata": {},
   "source": [
    "## Example of pruning first layer of AlexNet"
   ]
  },
  {
   "cell_type": "code",
   "execution_count": 3,
   "metadata": {},
   "outputs": [
    {
     "name": "stdout",
     "output_type": "stream",
     "text": [
      "############################# Retraining Epoch:[0] #############################\n",
      "Epoch: 000/002 | Batch 000/750 | Test Accuracy: 68.67%\n",
      "Epoch: 000/002 | Batch 050/750 | Test Accuracy: 72.97%\n",
      "Epoch: 000/002 | Batch 100/750 | Test Accuracy: 73.07%\n",
      "Epoch: 000/002 | Batch 150/750 | Test Accuracy: 73.17%\n",
      "Epoch: 000/002 | Batch 200/750 | Test Accuracy: 73.43%\n",
      "Epoch: 000/002 | Batch 250/750 | Test Accuracy: 73.42%\n",
      "Epoch: 000/002 | Batch 300/750 | Test Accuracy: 73.19%\n",
      "Epoch: 000/002 | Batch 350/750 | Test Accuracy: 71.65%\n",
      "Epoch: 000/002 | Batch 400/750 | Test Accuracy: 73.92%\n",
      "Epoch: 000/002 | Batch 450/750 | Test Accuracy: 73.46%\n",
      "Epoch: 000/002 | Batch 500/750 | Test Accuracy: 73.21%\n",
      "Epoch: 000/002 | Batch 550/750 | Test Accuracy: 73.13%\n",
      "Epoch: 000/002 | Batch 600/750 | Test Accuracy: 73.02%\n",
      "Epoch: 000/002 | Batch 650/750 | Test Accuracy: 73.27%\n",
      "Epoch: 000/002 | Batch 700/750 | Test Accuracy: 72.95%\n",
      "############################# Retraining Epoch:[1] #############################\n",
      "Epoch: 001/002 | Batch 000/750 | Test Accuracy: 72.70%\n",
      "Epoch: 001/002 | Batch 050/750 | Test Accuracy: 73.29%\n",
      "Epoch: 001/002 | Batch 100/750 | Test Accuracy: 73.03%\n",
      "Epoch: 001/002 | Batch 150/750 | Test Accuracy: 73.54%\n",
      "Epoch: 001/002 | Batch 200/750 | Test Accuracy: 73.83%\n",
      "Epoch: 001/002 | Batch 250/750 | Test Accuracy: 73.90%\n",
      "Epoch: 001/002 | Batch 300/750 | Test Accuracy: 73.61%\n",
      "Epoch: 001/002 | Batch 350/750 | Test Accuracy: 73.40%\n",
      "Epoch: 001/002 | Batch 400/750 | Test Accuracy: 73.43%\n",
      "Epoch: 001/002 | Batch 450/750 | Test Accuracy: 73.03%\n",
      "Epoch: 001/002 | Batch 500/750 | Test Accuracy: 72.96%\n",
      "Epoch: 001/002 | Batch 550/750 | Test Accuracy: 72.82%\n",
      "Epoch: 001/002 | Batch 600/750 | Test Accuracy: 72.78%\n",
      "Epoch: 001/002 | Batch 650/750 | Test Accuracy: 73.45%\n",
      "Epoch: 001/002 | Batch 700/750 | Test Accuracy: 72.99%\n"
     ]
    }
   ],
   "source": [
    "net.prune(net.features[0], 0.5, 2, train_loader, valid_loader, test_loader)\n",
    "# net.compute_acc(valid_loader)"
   ]
  }
 ],
 "metadata": {
  "kernelspec": {
   "display_name": "Python 3",
   "language": "python",
   "name": "python3"
  },
  "language_info": {
   "codemirror_mode": {
    "name": "ipython",
    "version": 3
   },
   "file_extension": ".py",
   "mimetype": "text/x-python",
   "name": "python",
   "nbconvert_exporter": "python",
   "pygments_lexer": "ipython3",
   "version": "3.7.3"
  }
 },
 "nbformat": 4,
 "nbformat_minor": 2
}
