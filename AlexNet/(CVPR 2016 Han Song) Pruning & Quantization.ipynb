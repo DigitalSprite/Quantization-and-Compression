{
 "cells": [
  {
   "cell_type": "code",
   "execution_count": 1,
   "metadata": {},
   "outputs": [],
   "source": [
    "from net.data import get_dataloader\n",
    "from net.model import AlexNet\n",
    "import torch"
   ]
  },
  {
   "cell_type": "code",
   "execution_count": 3,
   "metadata": {},
   "outputs": [],
   "source": [
    "# train_loader, valid_loader, test_loader = get_dataloader(type='cifar10', data_root='data', batch_size=64)\n",
    "net = AlexNet(10)"
   ]
  },
  {
   "cell_type": "markdown",
   "metadata": {},
   "source": [
    "## Example of quantizing first layer of AlexNet"
   ]
  },
  {
   "cell_type": "code",
   "execution_count": 3,
   "metadata": {},
   "outputs": [
    {
     "name": "stderr",
     "output_type": "stream",
     "text": [
      "C:\\Users\\47034\\Anaconda3\\lib\\site-packages\\sklearn\\cluster\\k_means_.py:969: RuntimeWarning: Explicit initial center position passed: performing only one init in k-means instead of n_init=10\n",
      "  return_n_iter=True)\n"
     ]
    },
    {
     "name": "stdout",
     "output_type": "stream",
     "text": [
      "Clusters: 250 | Test Accuracy: 73.65% | Valid Accuracy: 73.65%\n"
     ]
    },
    {
     "name": "stderr",
     "output_type": "stream",
     "text": [
      "C:\\Users\\47034\\Anaconda3\\lib\\site-packages\\sklearn\\cluster\\k_means_.py:969: RuntimeWarning: Explicit initial center position passed: performing only one init in k-means instead of n_init=10\n",
      "  return_n_iter=True)\n"
     ]
    },
    {
     "name": "stdout",
     "output_type": "stream",
     "text": [
      "Clusters: 240 | Test Accuracy: 73.72% | Valid Accuracy: 74.75%\n"
     ]
    },
    {
     "name": "stderr",
     "output_type": "stream",
     "text": [
      "C:\\Users\\47034\\Anaconda3\\lib\\site-packages\\sklearn\\cluster\\k_means_.py:969: RuntimeWarning: Explicit initial center position passed: performing only one init in k-means instead of n_init=10\n",
      "  return_n_iter=True)\n"
     ]
    },
    {
     "name": "stdout",
     "output_type": "stream",
     "text": [
      "Clusters: 230 | Test Accuracy: 73.54% | Valid Accuracy: 74.60%\n"
     ]
    },
    {
     "name": "stderr",
     "output_type": "stream",
     "text": [
      "C:\\Users\\47034\\Anaconda3\\lib\\site-packages\\sklearn\\cluster\\k_means_.py:969: RuntimeWarning: Explicit initial center position passed: performing only one init in k-means instead of n_init=10\n",
      "  return_n_iter=True)\n"
     ]
    },
    {
     "name": "stdout",
     "output_type": "stream",
     "text": [
      "Clusters: 220 | Test Accuracy: 73.32% | Valid Accuracy: 74.85%\n"
     ]
    },
    {
     "name": "stderr",
     "output_type": "stream",
     "text": [
      "C:\\Users\\47034\\Anaconda3\\lib\\site-packages\\sklearn\\cluster\\k_means_.py:969: RuntimeWarning: Explicit initial center position passed: performing only one init in k-means instead of n_init=10\n",
      "  return_n_iter=True)\n"
     ]
    },
    {
     "name": "stdout",
     "output_type": "stream",
     "text": [
      "Clusters: 210 | Test Accuracy: 73.36% | Valid Accuracy: 74.30%\n"
     ]
    },
    {
     "name": "stderr",
     "output_type": "stream",
     "text": [
      "C:\\Users\\47034\\Anaconda3\\lib\\site-packages\\sklearn\\cluster\\k_means_.py:969: RuntimeWarning: Explicit initial center position passed: performing only one init in k-means instead of n_init=10\n",
      "  return_n_iter=True)\n"
     ]
    },
    {
     "name": "stdout",
     "output_type": "stream",
     "text": [
      "Clusters: 200 | Test Accuracy: 73.35% | Valid Accuracy: 75.60%\n"
     ]
    },
    {
     "name": "stderr",
     "output_type": "stream",
     "text": [
      "C:\\Users\\47034\\Anaconda3\\lib\\site-packages\\sklearn\\cluster\\k_means_.py:969: RuntimeWarning: Explicit initial center position passed: performing only one init in k-means instead of n_init=10\n",
      "  return_n_iter=True)\n"
     ]
    },
    {
     "name": "stdout",
     "output_type": "stream",
     "text": [
      "Clusters: 190 | Test Accuracy: 74.08% | Valid Accuracy: 74.00%\n"
     ]
    },
    {
     "name": "stderr",
     "output_type": "stream",
     "text": [
      "C:\\Users\\47034\\Anaconda3\\lib\\site-packages\\sklearn\\cluster\\k_means_.py:969: RuntimeWarning: Explicit initial center position passed: performing only one init in k-means instead of n_init=10\n",
      "  return_n_iter=True)\n"
     ]
    },
    {
     "name": "stdout",
     "output_type": "stream",
     "text": [
      "Clusters: 180 | Test Accuracy: 73.54% | Valid Accuracy: 74.40%\n"
     ]
    },
    {
     "name": "stderr",
     "output_type": "stream",
     "text": [
      "C:\\Users\\47034\\Anaconda3\\lib\\site-packages\\sklearn\\cluster\\k_means_.py:969: RuntimeWarning: Explicit initial center position passed: performing only one init in k-means instead of n_init=10\n",
      "  return_n_iter=True)\n"
     ]
    },
    {
     "name": "stdout",
     "output_type": "stream",
     "text": [
      "Clusters: 170 | Test Accuracy: 73.60% | Valid Accuracy: 73.65%\n"
     ]
    },
    {
     "name": "stderr",
     "output_type": "stream",
     "text": [
      "C:\\Users\\47034\\Anaconda3\\lib\\site-packages\\sklearn\\cluster\\k_means_.py:969: RuntimeWarning: Explicit initial center position passed: performing only one init in k-means instead of n_init=10\n",
      "  return_n_iter=True)\n"
     ]
    },
    {
     "name": "stdout",
     "output_type": "stream",
     "text": [
      "Clusters: 160 | Test Accuracy: 73.35% | Valid Accuracy: 74.65%\n"
     ]
    },
    {
     "name": "stderr",
     "output_type": "stream",
     "text": [
      "C:\\Users\\47034\\Anaconda3\\lib\\site-packages\\sklearn\\cluster\\k_means_.py:969: RuntimeWarning: Explicit initial center position passed: performing only one init in k-means instead of n_init=10\n",
      "  return_n_iter=True)\n"
     ]
    },
    {
     "name": "stdout",
     "output_type": "stream",
     "text": [
      "Clusters: 150 | Test Accuracy: 73.06% | Valid Accuracy: 74.50%\n"
     ]
    },
    {
     "name": "stderr",
     "output_type": "stream",
     "text": [
      "C:\\Users\\47034\\Anaconda3\\lib\\site-packages\\sklearn\\cluster\\k_means_.py:969: RuntimeWarning: Explicit initial center position passed: performing only one init in k-means instead of n_init=10\n",
      "  return_n_iter=True)\n"
     ]
    },
    {
     "name": "stdout",
     "output_type": "stream",
     "text": [
      "Clusters: 140 | Test Accuracy: 73.14% | Valid Accuracy: 75.30%\n"
     ]
    },
    {
     "name": "stderr",
     "output_type": "stream",
     "text": [
      "C:\\Users\\47034\\Anaconda3\\lib\\site-packages\\sklearn\\cluster\\k_means_.py:969: RuntimeWarning: Explicit initial center position passed: performing only one init in k-means instead of n_init=10\n",
      "  return_n_iter=True)\n"
     ]
    },
    {
     "name": "stdout",
     "output_type": "stream",
     "text": [
      "Clusters: 130 | Test Accuracy: 73.65% | Valid Accuracy: 75.55%\n"
     ]
    },
    {
     "name": "stderr",
     "output_type": "stream",
     "text": [
      "C:\\Users\\47034\\Anaconda3\\lib\\site-packages\\sklearn\\cluster\\k_means_.py:969: RuntimeWarning: Explicit initial center position passed: performing only one init in k-means instead of n_init=10\n",
      "  return_n_iter=True)\n"
     ]
    },
    {
     "name": "stdout",
     "output_type": "stream",
     "text": [
      "Clusters: 120 | Test Accuracy: 73.45% | Valid Accuracy: 74.20%\n"
     ]
    },
    {
     "name": "stderr",
     "output_type": "stream",
     "text": [
      "C:\\Users\\47034\\Anaconda3\\lib\\site-packages\\sklearn\\cluster\\k_means_.py:969: RuntimeWarning: Explicit initial center position passed: performing only one init in k-means instead of n_init=10\n",
      "  return_n_iter=True)\n"
     ]
    },
    {
     "name": "stdout",
     "output_type": "stream",
     "text": [
      "Clusters: 110 | Test Accuracy: 73.78% | Valid Accuracy: 74.15%\n"
     ]
    },
    {
     "name": "stderr",
     "output_type": "stream",
     "text": [
      "C:\\Users\\47034\\Anaconda3\\lib\\site-packages\\sklearn\\cluster\\k_means_.py:969: RuntimeWarning: Explicit initial center position passed: performing only one init in k-means instead of n_init=10\n",
      "  return_n_iter=True)\n"
     ]
    },
    {
     "name": "stdout",
     "output_type": "stream",
     "text": [
      "Clusters: 100 | Test Accuracy: 73.38% | Valid Accuracy: 74.55%\n"
     ]
    },
    {
     "name": "stderr",
     "output_type": "stream",
     "text": [
      "C:\\Users\\47034\\Anaconda3\\lib\\site-packages\\sklearn\\cluster\\k_means_.py:969: RuntimeWarning: Explicit initial center position passed: performing only one init in k-means instead of n_init=10\n",
      "  return_n_iter=True)\n"
     ]
    },
    {
     "name": "stdout",
     "output_type": "stream",
     "text": [
      "Clusters: 090 | Test Accuracy: 73.61% | Valid Accuracy: 74.65%\n"
     ]
    },
    {
     "name": "stderr",
     "output_type": "stream",
     "text": [
      "C:\\Users\\47034\\Anaconda3\\lib\\site-packages\\sklearn\\cluster\\k_means_.py:969: RuntimeWarning: Explicit initial center position passed: performing only one init in k-means instead of n_init=10\n",
      "  return_n_iter=True)\n"
     ]
    },
    {
     "name": "stdout",
     "output_type": "stream",
     "text": [
      "Clusters: 080 | Test Accuracy: 73.74% | Valid Accuracy: 74.45%\n"
     ]
    },
    {
     "name": "stderr",
     "output_type": "stream",
     "text": [
      "C:\\Users\\47034\\Anaconda3\\lib\\site-packages\\sklearn\\cluster\\k_means_.py:969: RuntimeWarning: Explicit initial center position passed: performing only one init in k-means instead of n_init=10\n",
      "  return_n_iter=True)\n"
     ]
    },
    {
     "name": "stdout",
     "output_type": "stream",
     "text": [
      "Clusters: 070 | Test Accuracy: 73.25% | Valid Accuracy: 74.15%\n"
     ]
    },
    {
     "name": "stderr",
     "output_type": "stream",
     "text": [
      "C:\\Users\\47034\\Anaconda3\\lib\\site-packages\\sklearn\\cluster\\k_means_.py:969: RuntimeWarning: Explicit initial center position passed: performing only one init in k-means instead of n_init=10\n",
      "  return_n_iter=True)\n"
     ]
    },
    {
     "name": "stdout",
     "output_type": "stream",
     "text": [
      "Clusters: 060 | Test Accuracy: 73.35% | Valid Accuracy: 74.75%\n"
     ]
    },
    {
     "name": "stderr",
     "output_type": "stream",
     "text": [
      "C:\\Users\\47034\\Anaconda3\\lib\\site-packages\\sklearn\\cluster\\k_means_.py:969: RuntimeWarning: Explicit initial center position passed: performing only one init in k-means instead of n_init=10\n",
      "  return_n_iter=True)\n"
     ]
    },
    {
     "name": "stdout",
     "output_type": "stream",
     "text": [
      "Clusters: 050 | Test Accuracy: 73.34% | Valid Accuracy: 74.30%\n"
     ]
    },
    {
     "name": "stderr",
     "output_type": "stream",
     "text": [
      "C:\\Users\\47034\\Anaconda3\\lib\\site-packages\\sklearn\\cluster\\k_means_.py:969: RuntimeWarning: Explicit initial center position passed: performing only one init in k-means instead of n_init=10\n",
      "  return_n_iter=True)\n"
     ]
    },
    {
     "name": "stdout",
     "output_type": "stream",
     "text": [
      "Clusters: 040 | Test Accuracy: 73.27% | Valid Accuracy: 74.35%\n"
     ]
    },
    {
     "name": "stderr",
     "output_type": "stream",
     "text": [
      "C:\\Users\\47034\\Anaconda3\\lib\\site-packages\\sklearn\\cluster\\k_means_.py:969: RuntimeWarning: Explicit initial center position passed: performing only one init in k-means instead of n_init=10\n",
      "  return_n_iter=True)\n"
     ]
    },
    {
     "name": "stdout",
     "output_type": "stream",
     "text": [
      "Clusters: 030 | Test Accuracy: 72.83% | Valid Accuracy: 74.60%\n"
     ]
    },
    {
     "name": "stderr",
     "output_type": "stream",
     "text": [
      "C:\\Users\\47034\\Anaconda3\\lib\\site-packages\\sklearn\\cluster\\k_means_.py:969: RuntimeWarning: Explicit initial center position passed: performing only one init in k-means instead of n_init=10\n",
      "  return_n_iter=True)\n"
     ]
    },
    {
     "name": "stdout",
     "output_type": "stream",
     "text": [
      "Clusters: 020 | Test Accuracy: 73.06% | Valid Accuracy: 73.75%\n"
     ]
    },
    {
     "name": "stderr",
     "output_type": "stream",
     "text": [
      "C:\\Users\\47034\\Anaconda3\\lib\\site-packages\\sklearn\\cluster\\k_means_.py:969: RuntimeWarning: Explicit initial center position passed: performing only one init in k-means instead of n_init=10\n",
      "  return_n_iter=True)\n"
     ]
    },
    {
     "name": "stdout",
     "output_type": "stream",
     "text": [
      "Clusters: 010 | Test Accuracy: 72.12% | Valid Accuracy: 73.30%\n"
     ]
    }
   ],
   "source": [
    "acc_list = []\n",
    "cluster_list = []\n",
    "for clusters in range(250, 0, -10):\n",
    "    net.load_from_pretrained_model('model/alexnet_cifar10_baseline.pth')\n",
    "    acc = net.k_means_quantization(net.features[0], clusters, 1, train_loader, valid_loader, test_loader, retrain=False)\n",
    "    acc_list.append(acc)\n",
    "    cluster_list.append(clusters)"
   ]
  },
  {
   "cell_type": "code",
   "execution_count": 7,
   "metadata": {},
   "outputs": [
    {
     "name": "stderr",
     "output_type": "stream",
     "text": [
      "C:\\Users\\47034\\Anaconda3\\lib\\site-packages\\sklearn\\cluster\\k_means_.py:969: RuntimeWarning: Explicit initial center position passed: performing only one init in k-means instead of n_init=10\n",
      "  return_n_iter=True)\n"
     ]
    },
    {
     "name": "stdout",
     "output_type": "stream",
     "text": [
      "Clusters: 006 | Test Accuracy: 70.72% | Valid Accuracy: 70.70%\n"
     ]
    }
   ],
   "source": [
    "net.load_from_pretrained_model('model/alexnet_cifar10_baseline.pth')\n",
    "acc = net.k_means_quantization(net.features[0], 6, 1, train_loader, valid_loader, test_loader, retrain=False)"
   ]
  },
  {
   "cell_type": "markdown",
   "metadata": {},
   "source": [
    "## Example of pruning first layer of AlexNet"
   ]
  },
  {
   "cell_type": "code",
   "execution_count": 3,
   "metadata": {},
   "outputs": [
    {
     "name": "stdout",
     "output_type": "stream",
     "text": [
      "############################# Retraining Epoch:[0] #############################\n",
      "Epoch: 000/002 | Batch 000/750 | Test Accuracy: 68.67%\n",
      "Epoch: 000/002 | Batch 050/750 | Test Accuracy: 72.97%\n",
      "Epoch: 000/002 | Batch 100/750 | Test Accuracy: 73.07%\n",
      "Epoch: 000/002 | Batch 150/750 | Test Accuracy: 73.17%\n",
      "Epoch: 000/002 | Batch 200/750 | Test Accuracy: 73.43%\n",
      "Epoch: 000/002 | Batch 250/750 | Test Accuracy: 73.42%\n",
      "Epoch: 000/002 | Batch 300/750 | Test Accuracy: 73.19%\n",
      "Epoch: 000/002 | Batch 350/750 | Test Accuracy: 71.65%\n",
      "Epoch: 000/002 | Batch 400/750 | Test Accuracy: 73.92%\n",
      "Epoch: 000/002 | Batch 450/750 | Test Accuracy: 73.46%\n",
      "Epoch: 000/002 | Batch 500/750 | Test Accuracy: 73.21%\n",
      "Epoch: 000/002 | Batch 550/750 | Test Accuracy: 73.13%\n",
      "Epoch: 000/002 | Batch 600/750 | Test Accuracy: 73.02%\n",
      "Epoch: 000/002 | Batch 650/750 | Test Accuracy: 73.27%\n",
      "Epoch: 000/002 | Batch 700/750 | Test Accuracy: 72.95%\n",
      "############################# Retraining Epoch:[1] #############################\n",
      "Epoch: 001/002 | Batch 000/750 | Test Accuracy: 72.70%\n",
      "Epoch: 001/002 | Batch 050/750 | Test Accuracy: 73.29%\n",
      "Epoch: 001/002 | Batch 100/750 | Test Accuracy: 73.03%\n",
      "Epoch: 001/002 | Batch 150/750 | Test Accuracy: 73.54%\n",
      "Epoch: 001/002 | Batch 200/750 | Test Accuracy: 73.83%\n",
      "Epoch: 001/002 | Batch 250/750 | Test Accuracy: 73.90%\n",
      "Epoch: 001/002 | Batch 300/750 | Test Accuracy: 73.61%\n",
      "Epoch: 001/002 | Batch 350/750 | Test Accuracy: 73.40%\n",
      "Epoch: 001/002 | Batch 400/750 | Test Accuracy: 73.43%\n",
      "Epoch: 001/002 | Batch 450/750 | Test Accuracy: 73.03%\n",
      "Epoch: 001/002 | Batch 500/750 | Test Accuracy: 72.96%\n",
      "Epoch: 001/002 | Batch 550/750 | Test Accuracy: 72.82%\n",
      "Epoch: 001/002 | Batch 600/750 | Test Accuracy: 72.78%\n",
      "Epoch: 001/002 | Batch 650/750 | Test Accuracy: 73.45%\n",
      "Epoch: 001/002 | Batch 700/750 | Test Accuracy: 72.99%\n"
     ]
    }
   ],
   "source": [
    "net.prune(net.features[0], 0.5, 2, train_loader, valid_loader, test_loader)\n",
    "# net.compute_acc(valid_loader)"
   ]
  },
  {
   "cell_type": "code",
   "execution_count": 8,
   "metadata": {},
   "outputs": [
    {
     "ename": "NameError",
     "evalue": "name 'mdl' is not defined",
     "output_type": "error",
     "traceback": [
      "\u001b[1;31m---------------------------------------------------------------------------\u001b[0m",
      "\u001b[1;31mNameError\u001b[0m                                 Traceback (most recent call last)",
      "\u001b[1;32m<ipython-input-8-507837855805>\u001b[0m in \u001b[0;36m<module>\u001b[1;34m\u001b[0m\n\u001b[1;32m----> 1\u001b[1;33m \u001b[0mqty\u001b[0m \u001b[1;33m=\u001b[0m \u001b[0mmdl\u001b[0m\u001b[1;33m.\u001b[0m\u001b[0mcontinuous_var_dict\u001b[0m\u001b[1;33m(\u001b[0m\u001b[0mfoods\u001b[0m\u001b[1;33m,\u001b[0m \u001b[0mlb\u001b[0m\u001b[1;33m=\u001b[0m\u001b[1;32mlambda\u001b[0m \u001b[0mf\u001b[0m\u001b[1;33m:\u001b[0m \u001b[0mf\u001b[0m\u001b[1;33m[\u001b[0m\u001b[1;34m'Min'\u001b[0m\u001b[1;33m]\u001b[0m\u001b[1;33m,\u001b[0m \u001b[0mub\u001b[0m\u001b[1;33m=\u001b[0m\u001b[1;32mlambda\u001b[0m \u001b[0mf\u001b[0m\u001b[1;33m:\u001b[0m \u001b[0mf\u001b[0m\u001b[1;33m[\u001b[0m\u001b[1;34m'Max'\u001b[0m\u001b[1;33m]\u001b[0m\u001b[1;33m,\u001b[0m \u001b[0mname\u001b[0m\u001b[1;33m=\u001b[0m\u001b[1;32mlambda\u001b[0m \u001b[0mf\u001b[0m\u001b[1;33m:\u001b[0m \u001b[1;34m\"q_%s\"\u001b[0m \u001b[1;33m%\u001b[0m \u001b[0mf\u001b[0m\u001b[1;33m.\u001b[0m\u001b[0mindex\u001b[0m\u001b[1;33m)\u001b[0m\u001b[1;33m\u001b[0m\u001b[1;33m\u001b[0m\u001b[0m\n\u001b[0m",
      "\u001b[1;31mNameError\u001b[0m: name 'mdl' is not defined"
     ]
    }
   ],
   "source": [
    "qty = mdl.continuous_var_dict(foods, lb=lambda f: f['Min'], ub=lambda f: f['Max'], name=lambda f: \"q_%s\" % f.index)"
   ]
  }
 ],
 "metadata": {
  "kernelspec": {
   "display_name": "Python 3",
   "language": "python",
   "name": "python3"
  },
  "language_info": {
   "codemirror_mode": {
    "name": "ipython",
    "version": 3
   },
   "file_extension": ".py",
   "mimetype": "text/x-python",
   "name": "python",
   "nbconvert_exporter": "python",
   "pygments_lexer": "ipython3",
   "version": "3.7.3"
  }
 },
 "nbformat": 4,
 "nbformat_minor": 2
}
