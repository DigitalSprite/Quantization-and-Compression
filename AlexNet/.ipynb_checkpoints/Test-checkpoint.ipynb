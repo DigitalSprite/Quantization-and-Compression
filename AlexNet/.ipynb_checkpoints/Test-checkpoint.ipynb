{
 "cells": [
  {
   "cell_type": "code",
   "execution_count": null,
   "metadata": {},
   "outputs": [],
   "source": [
    "from net.model_HCQ import HCQ\n",
    "import numpy as np\n",
    "from net.data import get_dataloader\n",
    "import torch\n",
    "import time\n",
    "import json\n",
    "from collections import OrderedDict\n",
    "import os"
   ]
  },
  {
   "cell_type": "code",
   "execution_count": null,
   "metadata": {},
   "outputs": [],
   "source": [
    "def get_layers_names():\n",
    "    layers_names = []\n",
    "    for i in range(1, 6):\n",
    "        layers_names.append('conv_weight_{}'.format(i))\n",
    "    for i in range(1, 4):\n",
    "        layers_names.append('fc_weight_{}'.format(i))\n",
    "    return layers_names"
   ]
  },
  {
   "cell_type": "code",
   "execution_count": null,
   "metadata": {},
   "outputs": [],
   "source": [
    "train_loader, valid_loader, test_loader = get_dataloader(type='cifar10', data_root='data', batch_size=64)\n",
    "net = HCQ(10, dropout=0)\n",
    "net.load_from_pretrained_model('model/alexnet_cifar10_baseline.pth')\n",
    "valid_acc = net.compute_acc(valid_loader)\n",
    "test_acc = net.compute_acc(test_loader)\n",
    "acc_loss = 1.5\n",
    "print('Orignal valid accuracy:{:.2f}% | Original Test accuracy:{:.2f}% | Minimal valid accuracy:{:.2f}%'.format(valid_acc, test_acc, valid_acc - acc_loss))\n",
    "\n",
    "'''\n",
    "Use designed linkage function to quantize all layers of alexnet:\n",
    "'''\n",
    "cluster_num_dict = OrderedDict()\n",
    "acc_dict = OrderedDict()\n",
    "time_dict = OrderedDict()\n",
    "for layer_name in get_layers_names():\n",
    "    start_time = time.time()\n",
    "    print('\\n########################## Quantize Layer {} ##########################\\n'.format(layer_name))\n",
    "    code_book, weights = net.hcq_initialization(layer_name, 'designed')\n",
    "    if 'fc' in layer_name:\n",
    "        continue\n",
    "    net.fine_tune(layer_name, code_book, 1, 1e-4, train_loader, valid_loader, test_loader)\n",
    "    total_cluster_num = []\n",
    "    total_acc = []\n",
    "    for iteration in range(10):\n",
    "        print('########################## Iteration {} ############################'.format(iteration))\n",
    "        max_idx = np.max(code_book)\n",
    "        code_book, centroids, clusters_num_list, acc_list = net.quantize_layer_under_acc_loss(layer_name,\n",
    "                                                                               code_book,\n",
    "                                                                               'designed', \n",
    "                                                                               valid_acc - acc_loss, \n",
    "                                                                               valid_loader)\n",
    "        if max_idx == np.max(code_book):\n",
    "            break\n",
    "        net.fine_tune(layer_name, code_book, 2, 1e-4, train_loader, valid_loader, test_loader)\n",
    "        total_cluster_num = np.concatenate((total_cluster_num, clusters_num_list))\n",
    "        total_acc = np.concatenate((total_acc, acc_list))\n",
    "    cluster_num_dict[layer_name]= list(total_cluster_num)\n",
    "    acc_dict[layer_name] = list(total_acc)\n",
    "    time_dict[layer_name] = time.time() - start_time"
   ]
  },
  {
   "cell_type": "code",
   "execution_count": null,
   "metadata": {},
   "outputs": [],
   "source": [
    "if not os.path.exists('model/1.1 Pipeline Experiments/acc loss 1.5 linkage designed'):\n",
    "    os.makedirs('model/1.1 Pipeline Experiments/acc loss 1.5 linkage designed')\n",
    "with open('model/1.1 Pipeline Experiments/acc loss 1.5 linkage designed/acc_dict.json', 'w') as f:\n",
    "    f.write(json.dumps(acc_dict))\n",
    "with open('model/1.1 Pipeline Experiments/acc loss 1.5 linkage designed/clusters_nums_dict.json', 'w') as f:\n",
    "    f.write(json.dumps(cluster_num_dict))\n",
    "with open('model/1.1 Pipeline Experiments/acc loss 1.5 linkage designed/time_dict.json', 'w') as f:\n",
    "    f.write(json.dumps(time_dict))\n",
    "net.save_model('model/1.1 Pipeline Experiments/acc loss 1.5 linkage designed/model.pth')"
   ]
  }
 ],
 "metadata": {
  "kernelspec": {
   "display_name": "Python 3",
   "language": "python",
   "name": "python3"
  },
  "language_info": {
   "codemirror_mode": {
    "name": "ipython",
    "version": 3
   },
   "file_extension": ".py",
   "mimetype": "text/x-python",
   "name": "python",
   "nbconvert_exporter": "python",
   "pygments_lexer": "ipython3",
   "version": "3.7.3"
  }
 },
 "nbformat": 4,
 "nbformat_minor": 2
}
